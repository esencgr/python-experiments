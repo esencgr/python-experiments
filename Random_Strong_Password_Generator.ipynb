{
  "nbformat": 4,
  "nbformat_minor": 0,
  "metadata": {
    "colab": {
      "name": "Random Strong Password Generator.ipynb",
      "provenance": []
    },
    "kernelspec": {
      "name": "python3",
      "display_name": "Python 3"
    }
  },
  "cells": [
    {
      "cell_type": "markdown",
      "metadata": {
        "id": "mTxT89wwn6nC"
      },
      "source": [
        "## Generate Random **Strong Password** According to the Given Length\n"
      ]
    },
    {
      "cell_type": "code",
      "metadata": {
        "id": "W_E_a0kwiK54"
      },
      "source": [
        "import string\n",
        "import random"
      ],
      "execution_count": null,
      "outputs": []
    },
    {
      "cell_type": "markdown",
      "metadata": {
        "id": "jbVqjeIjqzTU"
      },
      "source": [
        "## Basic Version\n",
        "\n",
        "User could only select *password length*."
      ]
    },
    {
      "cell_type": "code",
      "metadata": {
        "id": "by_nPU7jpI0v"
      },
      "source": [
        "LETTERS = string.ascii_letters \n",
        "DIGITS = string.digits \n",
        "PUNCTUATION = string.punctuation\n",
        "\n",
        "ALL = LETTERS + DIGITS + PUNCTUATION"
      ],
      "execution_count": null,
      "outputs": []
    },
    {
      "cell_type": "code",
      "metadata": {
        "colab": {
          "base_uri": "https://localhost:8080/"
        },
        "id": "XcutVEItm9sh",
        "outputId": "a9e104f6-2c31-4f14-fd92-431932a2209b"
      },
      "source": [
        "length = 12 #password length\n",
        "\n",
        "random_list = [random.choice(ALL) for i in range(length)]\n",
        "password = \"\".join(random_list)\n",
        "print(password)"
      ],
      "execution_count": null,
      "outputs": []
    },
    {
      "cell_type": "markdown",
      "metadata": {
        "id": "9kDgYzYGp7ai"
      },
      "source": [
        "## Adding Some Options\n",
        "\n",
        "Please visit https://passwordsgenerator.net/. As you can see, some options are available on this website.\n",
        "\n",
        "How can we enable users to choose these options?\n",
        "\n",
        "*   Include Letters\n",
        "*   Include Numbers\n",
        "*   Include Punctuation\n"
      ]
    },
    {
      "cell_type": "code",
      "metadata": {
        "id": "oQwt9sM8p4w8"
      },
      "source": [
        "all = []\n",
        "a = input(\"\"\"\n",
        "    Please enter values with a space between them :\n",
        "    Type a for Uppercase letters\n",
        "    Type b for Lowercase letters\n",
        "    Type c for Digits\n",
        "    Type d for Punctuation\n",
        "    Or directly type the symbols that you want with a space between them :\n",
        "    \"\"\")\n",
        "\n",
        "a = a.replace(\" \",\"\")\n",
        "for i in a:\n",
        "    \n",
        "    if i == \"a\":\n",
        "        all.append(string.ascii_uppercase)\n",
        "    \n",
        "    elif i == \"b\":\n",
        "        all.append(string.ascii_lowercase)\n",
        "\n",
        "    elif i == \"c\":\n",
        "        all.append(string.digits)\n",
        "\n",
        "    elif i == \"d\":\n",
        "        all.append(string.punctuation)\n",
        "\n",
        "    else:\n",
        "        try:\n",
        "            all.append(i)\n",
        "\n",
        "        except:\n",
        "            continue\n",
        "\n",
        "all = \"\".join(all)\n",
        "print(\"Including characters:\",all)\n",
        "\n",
        "while True:\n",
        "    try :\n",
        "        \n",
        "        length = int(input(\"Length: \"))\n",
        "        try:\n",
        "        \n",
        "            password = \"\".join(random.sample(all,length))\n",
        "\n",
        "            print(password) \n",
        "        \n",
        "            break\n",
        "\n",
        "\n",
        "        except :\n",
        "            if length < 0 :\n",
        "                print(\"Length can't be a negative number\")\n",
        "        \n",
        "            elif length > len(all):\n",
        "                print(\"Length of password can't be bigger than length of the letters that you choosed \")\n",
        "\n",
        "        \n",
        "\n",
        "    except ValueError :\n",
        "\n",
        "        print(\"Value of the length can't be a string.\")\n",
        "        continue\n",
        "\n",
        "\n"
      ],
      "execution_count": null,
      "outputs": []
    }
  ]
}